{
 "cells": [
  {
   "cell_type": "markdown",
   "id": "f381dee8-9e2e-488b-9042-e97faf5e25c0",
   "metadata": {},
   "source": [
    "# Assignment: 21-March, Feature Engineering-5"
   ]
  },
  {
   "cell_type": "code",
   "execution_count": 1,
   "id": "68d78c00-4622-405b-a772-28bef4f70186",
   "metadata": {},
   "outputs": [],
   "source": [
    "# Q1. What is the difference between Ordinal Encoding and Label Encoding? Provide an example of when you \n",
    "# might choose one over the other."
   ]
  },
  {
   "cell_type": "code",
   "execution_count": null,
   "id": "bfc81eda-7a37-40df-9b52-f34549abfb99",
   "metadata": {},
   "outputs": [],
   "source": [
    "# We use ordinal encoding to preserve order of categorical data i.e. \n",
    "# cold, warm, hot; low, medium, high. We use label encoding or one hot for categorical data, \n",
    "# where there's no order in data i.e. dog, cat, whale.\n",
    "\n",
    "#  In the case of ordinal encoding, it will assign a sequence of numerical values as per the order of data.\n",
    "\n",
    "# For example, “red” is 1, “green” is 2, and “blue” is 3. This is called an ordinal encoding or an integer \n",
    "# encoding and is easily reversible. Often, integer values starting at zero are used.\n",
    "# For some variables, an ordinal encoding may be enough.\n",
    "\n",
    "# Label Encoding is a popular encoding technique for handling categorical variables. In this technique,\n",
    "# each label is assigned a unique integer based on alphabetical ordering."
   ]
  },
  {
   "cell_type": "code",
   "execution_count": null,
   "id": "b5266202-0a29-4ce1-bd7f-11a4fb993b10",
   "metadata": {},
   "outputs": [],
   "source": []
  },
  {
   "cell_type": "code",
   "execution_count": 2,
   "id": "2153e11b-4ead-4300-a91c-06f5b044529f",
   "metadata": {},
   "outputs": [],
   "source": [
    "# Q2. Explain how Target Guided Ordinal Encoding works and provide an example of when you might use it in \n",
    "# a machine learning project."
   ]
  },
  {
   "cell_type": "code",
   "execution_count": null,
   "id": "1b90d968-8109-496f-bd97-9e0e240dc882",
   "metadata": {},
   "outputs": [],
   "source": [
    "# we calculate the mean of each categorical variable based on the output and then rank them.\n",
    "# The advantages of the mean target encoding are that it does not affect the volume of the \n",
    "# data and helps in faster learning.\n",
    "# Target encoding categorical variables solves the dimensionality problem we get by using One-Hot Encoding,\n",
    "# but this approach needs to be used with caution to avoid Target Leaking.\n",
    "#  Target encoding involves replacing a categorical feature with average target value of\n",
    "# all data points belonging to the category. For instance, Seattle can be replaced with average of\n",
    "# salary (target variable) of all datapoints where city is Seattle."
   ]
  },
  {
   "cell_type": "code",
   "execution_count": null,
   "id": "d6b61b33-543e-4ebc-a8f2-fb95d8b1d028",
   "metadata": {},
   "outputs": [],
   "source": []
  },
  {
   "cell_type": "code",
   "execution_count": 3,
   "id": "fa2fd409-f2c0-47c8-9343-ca2338ab623c",
   "metadata": {},
   "outputs": [],
   "source": [
    "# Q3. Define covariance and explain why it is important in statistical analysis. How is covariance calculated?"
   ]
  },
  {
   "cell_type": "code",
   "execution_count": null,
   "id": "52f47fca-c908-4194-8c5c-7f815dbfbe8c",
   "metadata": {},
   "outputs": [],
   "source": [
    "# Covariance is a statistical tool used to determine the relationship between the movements of two\n",
    "# random variables. When two stocks tend to move together, they are seen as having a positive covariance;\n",
    "# when they move inversely, the covariance is negative.\n",
    "# Covariance is a statistical term that refers to a systematic relationship between two random variables in \n",
    "# which a change in  the other reflects a change in one variable.\n",
    "\n",
    "# Covariance is a statistical tool investors use to measure the relationship between the movement of \n",
    "# two asset prices. A positive covariance means asset prices are moving in the same general direction.\n",
    "# A negative covariance means asset  prices are moving in opposite directions.\n",
    "\n",
    "# How is covariance calculated-\n",
    "# Example of Covariance\n",
    "# Calculate the mean (average) prices for each asset.\n",
    "# For each security, find the difference between each value and mean price.\n",
    "# Multiply the results obtained in the previous step.\n"
   ]
  }
 ],
 "metadata": {
  "kernelspec": {
   "display_name": "Python 3 (ipykernel)",
   "language": "python",
   "name": "python3"
  },
  "language_info": {
   "codemirror_mode": {
    "name": "ipython",
    "version": 3
   },
   "file_extension": ".py",
   "mimetype": "text/x-python",
   "name": "python",
   "nbconvert_exporter": "python",
   "pygments_lexer": "ipython3",
   "version": "3.10.6"
  }
 },
 "nbformat": 4,
 "nbformat_minor": 5
}
